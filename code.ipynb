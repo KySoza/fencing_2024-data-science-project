{
 "cells": [
  {
   "cell_type": "markdown",
   "metadata": {},
   "source": [
    "Wrangling generically useful packages"
   ]
  },
  {
   "cell_type": "code",
   "execution_count": 20,
   "metadata": {},
   "outputs": [],
   "source": [
    "import pandas as pd\n",
    "import requests\n",
    "from time import sleep\n",
    "import matplotlib.pyplot as plt\n",
    "import numpy as np"
   ]
  },
  {
   "cell_type": "markdown",
   "metadata": {},
   "source": [
    "# Pulling data from the fencing database and storing as a dataframe"
   ]
  },
  {
   "cell_type": "code",
   "execution_count": 7,
   "metadata": {},
   "outputs": [
    {
     "data": {
      "text/plain": [
       "<Response [200]>"
      ]
     },
     "execution_count": 7,
     "metadata": {},
     "output_type": "execute_result"
    }
   ],
   "source": [
    "response = requests.get(\"https://fencingdatabase.com/api/clips/answers\")"
   ]
  },
  {
   "cell_type": "code",
   "execution_count": 8,
   "metadata": {},
   "outputs": [
    {
     "data": {
      "text/plain": [
       "['__attrs__',\n",
       " '__bool__',\n",
       " '__class__',\n",
       " '__delattr__',\n",
       " '__dict__',\n",
       " '__dir__',\n",
       " '__doc__',\n",
       " '__enter__',\n",
       " '__eq__',\n",
       " '__exit__',\n",
       " '__format__',\n",
       " '__ge__',\n",
       " '__getattribute__',\n",
       " '__getstate__',\n",
       " '__gt__',\n",
       " '__hash__',\n",
       " '__init__',\n",
       " '__init_subclass__',\n",
       " '__iter__',\n",
       " '__le__',\n",
       " '__lt__',\n",
       " '__module__',\n",
       " '__ne__',\n",
       " '__new__',\n",
       " '__nonzero__',\n",
       " '__reduce__',\n",
       " '__reduce_ex__',\n",
       " '__repr__',\n",
       " '__setattr__',\n",
       " '__setstate__',\n",
       " '__sizeof__',\n",
       " '__str__',\n",
       " '__subclasshook__',\n",
       " '__weakref__',\n",
       " '_content',\n",
       " '_content_consumed',\n",
       " '_next',\n",
       " 'apparent_encoding',\n",
       " 'close',\n",
       " 'connection',\n",
       " 'content',\n",
       " 'cookies',\n",
       " 'elapsed',\n",
       " 'encoding',\n",
       " 'headers',\n",
       " 'history',\n",
       " 'is_permanent_redirect',\n",
       " 'is_redirect',\n",
       " 'iter_content',\n",
       " 'iter_lines',\n",
       " 'json',\n",
       " 'links',\n",
       " 'next',\n",
       " 'ok',\n",
       " 'raise_for_status',\n",
       " 'raw',\n",
       " 'reason',\n",
       " 'request',\n",
       " 'status_code',\n",
       " 'text',\n",
       " 'url']"
      ]
     },
     "execution_count": 8,
     "metadata": {},
     "output_type": "execute_result"
    }
   ],
   "source": [
    "dir(response)"
   ]
  },
  {
   "cell_type": "markdown",
   "metadata": {},
   "source": [
    "Create dataframe and seperate each weapon"
   ]
  },
  {
   "cell_type": "code",
   "execution_count": 10,
   "metadata": {},
   "outputs": [
    {
     "data": {
      "text/html": [
       "<div>\n",
       "<style scoped>\n",
       "    .dataframe tbody tr th:only-of-type {\n",
       "        vertical-align: middle;\n",
       "    }\n",
       "\n",
       "    .dataframe tbody tr th {\n",
       "        vertical-align: top;\n",
       "    }\n",
       "\n",
       "    .dataframe thead th {\n",
       "        text-align: right;\n",
       "    }\n",
       "</style>\n",
       "<table border=\"1\" class=\"dataframe\">\n",
       "  <thead>\n",
       "    <tr style=\"text-align: right;\">\n",
       "      <th></th>\n",
       "      <th>stats_id</th>\n",
       "      <th>weapon</th>\n",
       "      <th>initiated</th>\n",
       "      <th>strip_location</th>\n",
       "      <th>body_location</th>\n",
       "      <th>created_date</th>\n",
       "    </tr>\n",
       "  </thead>\n",
       "  <tbody>\n",
       "    <tr>\n",
       "      <th>0</th>\n",
       "      <td>DimwittedThisCoypu</td>\n",
       "      <td>epee</td>\n",
       "      <td>fotl</td>\n",
       "      <td>fotr_half</td>\n",
       "      <td>front_arm</td>\n",
       "      <td>1591130715</td>\n",
       "    </tr>\n",
       "    <tr>\n",
       "      <th>1</th>\n",
       "      <td>KnobbySereneFreshwatereel</td>\n",
       "      <td>epee</td>\n",
       "      <td>fotl</td>\n",
       "      <td>middle</td>\n",
       "      <td>front_arm</td>\n",
       "      <td>1591144965</td>\n",
       "    </tr>\n",
       "    <tr>\n",
       "      <th>2</th>\n",
       "      <td>KnobbySereneFreshwatereel</td>\n",
       "      <td>epee</td>\n",
       "      <td>fotl</td>\n",
       "      <td>fotr_half</td>\n",
       "      <td>front_arm</td>\n",
       "      <td>1591156220</td>\n",
       "    </tr>\n",
       "    <tr>\n",
       "      <th>3</th>\n",
       "      <td>AnyVelvetyIvorybackedwoodswallow</td>\n",
       "      <td>epee</td>\n",
       "      <td>fotl</td>\n",
       "      <td>fotl_warning_box</td>\n",
       "      <td>torso</td>\n",
       "      <td>1591555506</td>\n",
       "    </tr>\n",
       "    <tr>\n",
       "      <th>4</th>\n",
       "      <td>EcstaticSilverHammerheadshark</td>\n",
       "      <td>epee</td>\n",
       "      <td>fotl</td>\n",
       "      <td>fotr_half</td>\n",
       "      <td>front_arm</td>\n",
       "      <td>1592342612</td>\n",
       "    </tr>\n",
       "    <tr>\n",
       "      <th>...</th>\n",
       "      <td>...</td>\n",
       "      <td>...</td>\n",
       "      <td>...</td>\n",
       "      <td>...</td>\n",
       "      <td>...</td>\n",
       "      <td>...</td>\n",
       "    </tr>\n",
       "    <tr>\n",
       "      <th>95</th>\n",
       "      <td>PeacefulDimBarb</td>\n",
       "      <td>epee</td>\n",
       "      <td>fotr</td>\n",
       "      <td>fotr_half</td>\n",
       "      <td>head</td>\n",
       "      <td>1595628885</td>\n",
       "    </tr>\n",
       "    <tr>\n",
       "      <th>96</th>\n",
       "      <td>FluidPointedIridescentshark</td>\n",
       "      <td>epee</td>\n",
       "      <td>fotr</td>\n",
       "      <td>middle</td>\n",
       "      <td>torso</td>\n",
       "      <td>1595628914</td>\n",
       "    </tr>\n",
       "    <tr>\n",
       "      <th>97</th>\n",
       "      <td>MilkyNeighboringGreathornedowl</td>\n",
       "      <td>epee</td>\n",
       "      <td>fotl</td>\n",
       "      <td>middle</td>\n",
       "      <td>torso</td>\n",
       "      <td>1595628941</td>\n",
       "    </tr>\n",
       "    <tr>\n",
       "      <th>98</th>\n",
       "      <td>NeglectedSpanishCavy</td>\n",
       "      <td>epee</td>\n",
       "      <td>fotr</td>\n",
       "      <td>fotl_half</td>\n",
       "      <td>front_arm</td>\n",
       "      <td>1595628973</td>\n",
       "    </tr>\n",
       "    <tr>\n",
       "      <th>99</th>\n",
       "      <td>ZanyImpeccableIndianskimmer</td>\n",
       "      <td>epee</td>\n",
       "      <td>fotl</td>\n",
       "      <td>fotr_half</td>\n",
       "      <td>front_arm</td>\n",
       "      <td>1595629013</td>\n",
       "    </tr>\n",
       "  </tbody>\n",
       "</table>\n",
       "<p>100 rows × 6 columns</p>\n",
       "</div>"
      ],
      "text/plain": [
       "                            stats_id weapon initiated    strip_location  \\\n",
       "0                 DimwittedThisCoypu   epee      fotl         fotr_half   \n",
       "1          KnobbySereneFreshwatereel   epee      fotl            middle   \n",
       "2          KnobbySereneFreshwatereel   epee      fotl         fotr_half   \n",
       "3   AnyVelvetyIvorybackedwoodswallow   epee      fotl  fotl_warning_box   \n",
       "4      EcstaticSilverHammerheadshark   epee      fotl         fotr_half   \n",
       "..                               ...    ...       ...               ...   \n",
       "95                   PeacefulDimBarb   epee      fotr         fotr_half   \n",
       "96       FluidPointedIridescentshark   epee      fotr            middle   \n",
       "97    MilkyNeighboringGreathornedowl   epee      fotl            middle   \n",
       "98              NeglectedSpanishCavy   epee      fotr         fotl_half   \n",
       "99       ZanyImpeccableIndianskimmer   epee      fotl         fotr_half   \n",
       "\n",
       "   body_location  created_date  \n",
       "0      front_arm    1591130715  \n",
       "1      front_arm    1591144965  \n",
       "2      front_arm    1591156220  \n",
       "3          torso    1591555506  \n",
       "4      front_arm    1592342612  \n",
       "..           ...           ...  \n",
       "95          head    1595628885  \n",
       "96         torso    1595628914  \n",
       "97         torso    1595628941  \n",
       "98     front_arm    1595628973  \n",
       "99     front_arm    1595629013  \n",
       "\n",
       "[100 rows x 6 columns]"
      ]
     },
     "execution_count": 10,
     "metadata": {},
     "output_type": "execute_result"
    }
   ],
   "source": [
    "test = pd.json_normalize(response.json()['answers'])\n",
    "test"
   ]
  },
  {
   "cell_type": "code",
   "execution_count": 32,
   "metadata": {},
   "outputs": [],
   "source": [
    "epee = test[test['weapon'] == \"epee\"]\n",
    "saber = test[test['weapon'] == \"sabre\"]"
   ]
  },
  {
   "cell_type": "code",
   "execution_count": 45,
   "metadata": {},
   "outputs": [
    {
     "name": "stdout",
     "output_type": "stream",
     "text": [
      "[0, 100, 200, 300, 400, 500, 600, 700, 800, 900, 1000, 1100, 1200, 1300, 1400, 1500, 1600, 1700, 1800, 1900, 2000, 2100, 2200, 2300, 2400, 2500, 2600, 2700, 2800, 2900, 3000, 3100, 3200, 3300, 3400, 3500, 3600, 3700, 3800, 3900, 4000, 4100, 4200, 4300, 4400, 4500, 4600, 4700, 4800, 4900, 5000, 5100, 5200, 5300, 5400, 5500, 5600, 5700, 5800, 5900, 6000, 6100, 6200, 6300, 6400, 6500, 6600, 6700, 6800, 6900, 7000, 7100, 7200, 7300, 7400, 7500, 7600, 7700, 7800]\n"
     ]
    }
   ],
   "source": [
    "loop = list(range(0, 7900, 100))\n",
    "print(loop)"
   ]
  },
  {
   "cell_type": "code",
   "execution_count": 55,
   "metadata": {},
   "outputs": [
    {
     "name": "stdout",
     "output_type": "stream",
     "text": [
      "Asking Big Dog for 0\n",
      "Asking Big Dog for 100\n",
      "Asking Big Dog for 200\n",
      "Asking Big Dog for 300\n",
      "Asking Big Dog for 400\n",
      "Asking Big Dog for 500\n",
      "Asking Big Dog for 600\n",
      "Asking Big Dog for 700\n",
      "Asking Big Dog for 800\n",
      "Asking Big Dog for 900\n",
      "Asking Big Dog for 1000\n",
      "Asking Big Dog for 1100\n",
      "Asking Big Dog for 1200\n",
      "Asking Big Dog for 1300\n",
      "Asking Big Dog for 1400\n",
      "Asking Big Dog for 1500\n",
      "Asking Big Dog for 1600\n",
      "Asking Big Dog for 1700\n",
      "Asking Big Dog for 1800\n",
      "Asking Big Dog for 1900\n",
      "Asking Big Dog for 2000\n",
      "Asking Big Dog for 2100\n",
      "Asking Big Dog for 2200\n",
      "Asking Big Dog for 2300\n",
      "Asking Big Dog for 2400\n",
      "Asking Big Dog for 2500\n",
      "Asking Big Dog for 2600\n",
      "Asking Big Dog for 2700\n",
      "Asking Big Dog for 2800\n",
      "Asking Big Dog for 2900\n",
      "Asking Big Dog for 3000\n",
      "Asking Big Dog for 3100\n",
      "Asking Big Dog for 3200\n",
      "Asking Big Dog for 3300\n",
      "Asking Big Dog for 3400\n",
      "Asking Big Dog for 3500\n",
      "Asking Big Dog for 3600\n",
      "Asking Big Dog for 3700\n",
      "Asking Big Dog for 3800\n",
      "Asking Big Dog for 3900\n",
      "Asking Big Dog for 4000\n",
      "Asking Big Dog for 4100\n",
      "Asking Big Dog for 4200\n",
      "Asking Big Dog for 4300\n",
      "Asking Big Dog for 4400\n",
      "Asking Big Dog for 4500\n",
      "Asking Big Dog for 4600\n",
      "Asking Big Dog for 4700\n",
      "Asking Big Dog for 4800\n",
      "Asking Big Dog for 4900\n",
      "Asking Big Dog for 5000\n",
      "Asking Big Dog for 5100\n",
      "Asking Big Dog for 5200\n",
      "Asking Big Dog for 5300\n",
      "Asking Big Dog for 5400\n",
      "Asking Big Dog for 5500\n",
      "Asking Big Dog for 5600\n",
      "Asking Big Dog for 5700\n",
      "Asking Big Dog for 5800\n",
      "Asking Big Dog for 5900\n",
      "Asking Big Dog for 6000\n",
      "Asking Big Dog for 6100\n",
      "Asking Big Dog for 6200\n",
      "Asking Big Dog for 6300\n",
      "Asking Big Dog for 6400\n",
      "Asking Big Dog for 6500\n",
      "Asking Big Dog for 6600\n",
      "Asking Big Dog for 6700\n",
      "Asking Big Dog for 6800\n",
      "Asking Big Dog for 6900\n",
      "Asking Big Dog for 7000\n",
      "Asking Big Dog for 7100\n",
      "Asking Big Dog for 7200\n",
      "Asking Big Dog for 7300\n",
      "Asking Big Dog for 7400\n",
      "Asking Big Dog for 7500\n",
      "Asking Big Dog for 7600\n",
      "Asking Big Dog for 7700\n",
      "Asking Big Dog for 7800\n"
     ]
    }
   ],
   "source": [
    "fencing = pd.DataFrame()\n",
    "numbers_worked = []\n",
    "url = (\"https://fencingdatabase.com/api/clips/answers/\")\n",
    "for number in loop:\n",
    "    print('Asking Big Dog for ' + str(number))\n",
    "    try:\n",
    "        response = requests.get(\"https://fencingdatabase.com/api/clips/answers/\" + str(number))\n",
    "        fencing.merge(pd.json_normalize(response.json()['answers']))\n",
    "        numbers_worked.append(number)\n",
    "    except:\n",
    "        continue\n",
    "    sleep(2)"
   ]
  },
  {
   "cell_type": "code",
   "execution_count": 59,
   "metadata": {},
   "outputs": [],
   "source": [
    "total_df = pd.concat([fencing[0],fencing[1]])\n",
    "for i in fencing[2:]:\n",
    "    total_df = pd.concat([total_df,i])"
   ]
  },
  {
   "cell_type": "code",
   "execution_count": 61,
   "metadata": {},
   "outputs": [],
   "source": [
    "total_df.head()\n",
    "total_df.to_csv(\"fencingdb_dump.csv\")"
   ]
  },
  {
   "cell_type": "markdown",
   "metadata": {},
   "source": [
    "Some quick visualizations"
   ]
  },
  {
   "cell_type": "code",
   "execution_count": 27,
   "metadata": {},
   "outputs": [
    {
     "data": {
      "text/plain": [
       "<Axes: xlabel='body_location'>"
      ]
     },
     "execution_count": 27,
     "metadata": {},
     "output_type": "execute_result"
    },
    {
     "data": {
      "image/png": "[encoded data removed]",
      "text/plain": [
       "<Figure size 640x480 with 1 Axes>"
      ]
     },
     "metadata": {},
     "output_type": "display_data"
    }
   ],
   "source": [
    "epee[\"body_location\"].value_counts().plot(kind=\"bar\")"
   ]
  },
  {
   "cell_type": "code",
   "execution_count": 33,
   "metadata": {},
   "outputs": [
    {
     "data": {
      "text/plain": [
       "<Axes: xlabel='body_location'>"
      ]
     },
     "execution_count": 33,
     "metadata": {},
     "output_type": "execute_result"
    },
    {
     "data": {
      "image/png": "[encoded data removed]",
      "text/plain": [
       "<Figure size 640x480 with 1 Axes>"
      ]
     },
     "metadata": {},
     "output_type": "display_data"
    }
   ],
   "source": [
    "saber[\"body_location\"].value_counts().plot(kind=\"bar\")"
   ]
  },
  {
   "cell_type": "code",
   "execution_count": 37,
   "metadata": {},
   "outputs": [
    {
     "data": {
      "text/plain": [
       "<Axes: xlabel='strip_location'>"
      ]
     },
     "execution_count": 37,
     "metadata": {},
     "output_type": "execute_result"
    },
    {
     "data": {
      "image/png": "[encoded data removed]",
      "text/plain": [
       "<Figure size 640x480 with 1 Axes>"
      ]
     },
     "metadata": {},
     "output_type": "display_data"
    }
   ],
   "source": [
    "epee_fotl = epee[epee['initiated'] == 'fotl']\n",
    "epee_fotl['strip_location'].value_counts().plot(kind='bar')"
   ]
  },
  {
   "cell_type": "code",
   "execution_count": 38,
   "metadata": {},
   "outputs": [
    {
     "data": {
      "text/plain": [
       "<Axes: xlabel='strip_location'>"
      ]
     },
     "execution_count": 38,
     "metadata": {},
     "output_type": "execute_result"
    },
    {
     "data": {
      "image/png": "[encoded data removed]",
      "text/plain": [
       "<Figure size 640x480 with 1 Axes>"
      ]
     },
     "metadata": {},
     "output_type": "display_data"
    }
   ],
   "source": [
    "epee_fotr = epee[epee['initiated'] == 'fotr']\n",
    "epee_fotr['strip_location'].value_counts().plot(kind='bar')"
   ]
  },
  {
   "cell_type": "code",
   "execution_count": 40,
   "metadata": {},
   "outputs": [
    {
     "data": {
      "text/plain": [
       "<Axes: xlabel='strip_location'>"
      ]
     },
     "execution_count": 40,
     "metadata": {},
     "output_type": "execute_result"
    },
    {
     "data": {
      "image/png": "[encoded data removed]",
      "text/plain": [
       "<Figure size 640x480 with 1 Axes>"
      ]
     },
     "metadata": {},
     "output_type": "display_data"
    }
   ],
   "source": [
    "saber_fotr = saber[saber['initiated'] == 'fotr']\n",
    "saber_fotr['strip_location'].value_counts().plot(kind='bar')\n"
   ]
  },
  {
   "cell_type": "code",
   "execution_count": 42,
   "metadata": {},
   "outputs": [
    {
     "data": {
      "text/plain": [
       "<Axes: xlabel='strip_location'>"
      ]
     },
     "execution_count": 42,
     "metadata": {},
     "output_type": "execute_result"
    },
    {
     "data": {
      "image/png": "[encoded data removed]",
      "text/plain": [
       "<Figure size 640x480 with 1 Axes>"
      ]
     },
     "metadata": {},
     "output_type": "display_data"
    }
   ],
   "source": [
    "saber_fotl = saber[saber['initiated'] == 'fotl']\n",
    "saber_fotl['strip_location'].value_counts().plot(kind='bar')"
   ]
  }
 ],
 "metadata": {
  "kernelspec": {
   "display_name": "erdos_sp_2024",
   "language": "python",
   "name": "python3"
  },
  "language_info": {
   "codemirror_mode": {
    "name": "ipython",
    "version": 3
   },
   "file_extension": ".py",
   "mimetype": "text/x-python",
   "name": "python",
   "nbconvert_exporter": "python",
   "pygments_lexer": "ipython3",
   "version": "3.11.7"
  }
 },
 "nbformat": 4,
 "nbformat_minor": 2
}
