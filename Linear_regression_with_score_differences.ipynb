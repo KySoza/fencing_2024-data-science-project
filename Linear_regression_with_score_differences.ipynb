{
 "cells": [
  {
   "cell_type": "markdown",
   "metadata": {},
   "source": [
    "# Is the score difference correlated with any variable\n",
    "Here we introduce new variable score_diff = left_score - right_score.\n",
    "The distribution of the score difference is unimodal centered near 0.\n",
    "\n",
    "### Questions\n",
    "- Is the person with leading score more likely to initiate? \n",
    "<br>**No, all-weapon data shows the opposite. Fencers behind tend to initiate the next attack. \n",
    "This is especially true for epee. \n",
    "In sabre, fencer that's leading is slightly more likely to initiate.\n",
    "In foil, it's roughly 50/50, there's no clear association between leading side and initiation side.**\n",
    "- does this approach work? are aggressive fencers more likely to score (did Ty answer this already?)\n",
    "        - do epee fencer falling behind who initiate end up getting the point more than losing? \n",
    "        - are foil fencers initiating on the left more likely \n",
    "\n",
    "### TODO: \n",
    "- test interactions between variables\n",
    "- use stratified by who scored data\n",
    "- debug attack location: coefficient too big wtf \n",
    "\n",
    "### back burner questions: \n",
    "-"
   ]
  },
  {
   "cell_type": "code",
   "execution_count": 2,
   "metadata": {},
   "outputs": [],
   "source": [
    "# packages\n",
    "import pandas as pd\n",
    "import numpy as np\n",
    "import matplotlib.pyplot as plt\n",
    "import seaborn as sb\n",
    "from sklearn.linear_model import LinearRegression\n",
    "from sklearn.linear_model import LogisticRegression\n",
    "from sklearn.model_selection import train_test_split"
   ]
  },
  {
   "cell_type": "code",
   "execution_count": 3,
   "metadata": {},
   "outputs": [],
   "source": [
    "# load data\n",
    "touches = pd.read_csv('data/foil.csv')\n",
    "# remove unnecessary columns: weapon_y, created_date, tournament_id, gfycat_gfy_id, fotl_name, fotr_name, download_url\n",
    "touches=touches.drop(columns=['weapon_y', 'stats_id', 'created_date', 'tournament_id', 'gfycat_gfy_id', \n",
    "                              'fotl_name', 'fotr_name', 'download_url'])\n",
    "touches_binary = pd.get_dummies(touches, prefix=['init', 'touch', 'stp_loc', 'bod_loc', 'gender'], \n",
    "                         columns=['initiated', 'touch', 'strip_location', 'body_location', 'gender'])\n",
    "# get pre touch score difference \n",
    "touches_binary['left_score_pre'] = touches_binary.left_score - touches_binary.touch_left\n",
    "touches_binary['right_score_pre'] = touches_binary.right_score - touches_binary.touch_right\n",
    "\n",
    "# get numerical initialization count\n",
    "touches_binary['init_num'] = touches_binary.init_fotl + touches_binary.init_fotr*-1\n",
    "\n",
    "# get score difference column 'score_diff' and score difference column from scorer perspective 'scorer_lead'\n",
    "touches_binary['score_diff_pre'] = touches_binary['left_score_pre'] - touches_binary['right_score_pre']\n",
    "touches_binary['score_diff_post'] = touches_binary['left_score'] - touches_binary['right_score']\n",
    "touches_binary['scorer_lead'] = touches_binary['score_diff_pre']\n",
    "touches_binary.loc[touches_binary.touch_right == 1, 'scorer_lead'] = touches_binary.loc[touches_binary.touch_right == 1, 'scorer_lead']*-1"
   ]
  },
  {
   "cell_type": "code",
   "execution_count": 4,
   "metadata": {},
   "outputs": [
    {
     "data": {
      "image/png": "[encoded data removed]",
      "text/plain": [
       "<Figure size 288x216 with 1 Axes>"
      ]
     },
     "metadata": {
      "needs_background": "light"
     },
     "output_type": "display_data"
    }
   ],
   "source": [
    "plt.figure(figsize=(4, 3))\n",
    "sb.violinplot(touches_binary['score_diff_pre'])\n",
    "plt.title('Pre-touch score difference')\n",
    "plt.show()"
   ]
  },
  {
   "cell_type": "markdown",
   "metadata": {},
   "source": [
    "## Does attack initation relate to score difference\n",
    "Variables involved: init_fotl, init_fotr, init_neither, score_diff"
   ]
  },
  {
   "cell_type": "code",
   "execution_count": 37,
   "metadata": {
    "scrolled": true
   },
   "outputs": [
    {
     "data": {
      "image/png": "[encoded data removed]",
      "text/plain": [
       "<Figure size 288x216 with 1 Axes>"
      ]
     },
     "metadata": {
      "needs_background": "light"
     },
     "output_type": "display_data"
    },
    {
     "name": "stdout",
     "output_type": "stream",
     "text": [
      "left initiation: mean =  0.910958904109589 standard dev =  3.5052235636529434\n",
      "neither initiation: mean =  -0.6923076923076923 standard dev =  1.7269187938956652\n",
      "right initiation: mean =  -0.25 standard dev =  3.4360657180920766\n"
     ]
    }
   ],
   "source": [
    "# specify which variable we are using as dependent variable, e.g. score_diff (left lead) or scorer_lead (scorer lead duh.)\n",
    "df = touches_binary.copy()\n",
    "\n",
    "# change dep_var to use different type of score difference as the dependent varaible (y-axis)\n",
    "dep_var = 'score_diff_post'\n",
    "\n",
    "plt.figure(figsize=(4, 3))\n",
    "B = plt.boxplot([df[dep_var].loc[df['init_fotl']==1],\n",
    "             df[dep_var].loc[df['init_neither']==1],\n",
    "             df[dep_var].loc[df['init_fotr']==1]],\n",
    "           labels=['fotl', 'neither', 'fotr'])\n",
    "plt.ylabel(dep_var)\n",
    "plt.xlabel('initiation')\n",
    "plt.show()\n",
    "\n",
    "column_data=df[dep_var].loc[df['init_fotl']==1]\n",
    "mean = np.average(column_data)\n",
    "std = np.std(column_data)\n",
    "print('left initiation: mean = ', mean, 'standard dev = ', std)\n",
    "\n",
    "column_data=df[dep_var].loc[df['init_neither']==1]\n",
    "mean = np.average(column_data)\n",
    "std = np.std(column_data)\n",
    "print('neither initiation: mean = ', mean, 'standard dev = ', std)\n",
    "\n",
    "column_data=df[dep_var].loc[df['init_fotr']==1]\n",
    "mean = np.average(column_data)\n",
    "std = np.std(column_data)\n",
    "print('right initiation: mean = ', mean, 'standard dev = ', std)"
   ]
  },
  {
   "cell_type": "markdown",
   "metadata": {},
   "source": [
    "# ^\n",
    "\n",
    "Score difference (pre or post) are calculated by left - right score. Positive value indicates a left fencer lead and negative value indicates a right fencer lead. \n",
    "\n",
    "### Pre-touch score difference\n",
    "\n",
    "Foil: \n",
    "<br>left initiation: mean =  0.20333102012491325 standard dev =  3.6474991205228156\n",
    "<br>neither initiation: mean =  -0.2523076923076923 standard dev =  4.133655774150963\n",
    "<br>right initiation: mean =  0.1204906204906205 standard dev =  3.7875468142852893\n",
    "\n",
    "Sabre: \n",
    "<br>left initiation: mean =  0.6164383561643836 standard dev =  3.339797947240494\n",
    "<br>neither initiation: mean =  -0.3076923076923077 standard dev =  1.635407048113023\n",
    "<br>right initiation: mean =  -0.03571428571428571 standard dev =  3.3002396326104964\n",
    "\n",
    "Epee: \n",
    "<br>left initiation: mean =  -0.16408668730650156 standard dev =  2.72262814978853\n",
    "<br>neither initiation: mean =  0.9 standard dev =  3.505709628591621\n",
    "<br>right initiation: mean =  0.41297935103244837 standard dev =  2.7695046525006215\n",
    "\n",
    "========================================================================================\n",
    "### Post_touch score difference \n",
    "\n",
    "foil\n",
    "<br>left initiation: mean =  0.46564885496183206 standard dev =  3.7914537025487807\n",
    "<br>neither initiation: mean =  -0.2553846153846154 standard dev =  4.443769389891035\n",
    "<br>right initiation: mean =  -0.09668109668109669 standard dev =  3.9903423033273064\n",
    "\n",
    "sabre\n",
    "<br>left initiation: mean =  0.910958904109589 standard dev =  3.5052235636529434\n",
    "<br>neither initiation: mean =  -0.6923076923076923 standard dev =  1.7269187938956652\n",
    "<br>right initiation: mean =  -0.25 standard dev =  3.4360657180920766\n",
    "\n",
    "epee\n",
    "<br>left initiation: mean =  0.006191950464396285 standard dev =  2.916796461501889\n",
    "<br>neither initiation: mean =  1.0 standard dev =  3.9496835316262997\n",
    "<br>right initiation: mean =  0.36578171091445427 standard dev =  3.0194272972017955\n"
   ]
  },
  {
   "cell_type": "code",
   "execution_count": 97,
   "metadata": {
    "scrolled": true
   },
   "outputs": [
    {
     "name": "stdout",
     "output_type": "stream",
     "text": [
      "intercept 0.43594009983361204\n",
      "coefficients [-0.20974962 -0.14166217  0.3480599 ]\n",
      "the mse on test set is 13.862439177233044\n"
     ]
    }
   ],
   "source": [
    "X_data = df[['init_fotl', 'init_fotr', 'init_neither']]\n",
    "\n",
    "X_train, X_test, y_train, y_test = train_test_split(X_data, \n",
    "                                                    df[dep_var], shuffle=True, random_state=404, test_size=0.2)\n",
    "reg = LinearRegression(copy_X=True, fit_intercept=True)\n",
    "reg.fit(X_train, y_train)\n",
    "print(\"intercept\", reg.intercept_)\n",
    "print(\"coefficients\", reg.coef_)\n",
    "y_pred=reg.predict(X_test)\n",
    "print(\"the mse on test set is\", np.sum(np.power(y_test-y_pred, 2))/len(y_test))"
   ]
  },
  {
   "cell_type": "markdown",
   "metadata": {},
   "source": [
    "# ^\n",
    "This linear regression looks really **useless**."
   ]
  },
  {
   "cell_type": "markdown",
   "metadata": {},
   "source": [
    "## v\n",
    "\n",
    "### For this block below we are using the complete data with all weapons and we are not using one hot encoding.\n",
    "\n",
    "want: given left is leading, what proportions of the next point is initiated by left/neither/right fencer.\n",
    "- visualization: two proportion bar graphs, one for left lead one for right lead\n",
    "- three bars by weapon, vertically stack left/neither/right"
   ]
  },
  {
   "cell_type": "code",
   "execution_count": 5,
   "metadata": {},
   "outputs": [
    {
     "name": "stdout",
     "output_type": "stream",
     "text": [
      "length after na  4151\n",
      "sabre:  327\n",
      "epee:  672\n",
      "foil:  3152\n"
     ]
    }
   ],
   "source": [
    "# load data\n",
    "df = pd.read_csv('data/fencing-touches-combine.csv')\n",
    "# remove unnecessary columns: weapon_y, created_date, tournament_id, gfycat_gfy_id, fotl_name, fotr_name, download_url\n",
    "df = df.drop(columns=['weapon_y', 'stats_id', 'created_date', 'tournament_id', 'gfycat_gfy_id', \n",
    "                              'fotl_name', 'fotr_name', 'download_url', 'gender', 'strip_location', 'body_location'])\n",
    "df = df.dropna()\n",
    "df = pd.get_dummies(df, prefix=['touch'], \n",
    "                         columns=['touch'])\n",
    "print('length after na ', len(df))\n",
    "print('sabre: ', len(df.loc[df.weapon_x == 'sabre']))\n",
    "print('epee: ', len(df.loc[df.weapon_x == 'epee']))\n",
    "print('foil: ', len(df.loc[df.weapon_x == 'foil']))\n",
    "# get pre touch score difference \n",
    "df['left_score_pre'] = df.left_score - df.touch_left\n",
    "df['right_score_pre'] = df.right_score - df.touch_right\n",
    "df['dummy'] = 1  # used for counting\n",
    "\n",
    "# get numerical initialization count\n",
    "df['score_diff_pre'] = df['left_score_pre'] - df['right_score_pre']\n",
    "\n",
    "df_left = df.loc[df['score_diff_pre']> 0] # left lead\n",
    "df_right = df.loc[df['score_diff_pre']< 0] # right lead\n"
   ]
  },
  {
   "cell_type": "code",
   "execution_count": 7,
   "metadata": {},
   "outputs": [
    {
     "name": "stdout",
     "output_type": "stream",
     "text": [
      "of all weapons\n",
      "out of all left leading,  0.45353982300884954  of the next points is left initiated,  0.4657079646017699  right initiated\n",
      "out of all right leading,  0.4721563981042654  of the next points is left initiated,  0.43364928909952605  right initiated\n"
     ]
    }
   ],
   "source": [
    "# overall who's more likely to initiate, given lead\n",
    "perc_ll_li = df.loc[(df.initiated == 'fotl') & (df.score_diff_pre > 0)].dummy.sum()/df.loc[df.score_diff_pre > 0].dummy.sum()\n",
    "perc_ll_ri = df.loc[(df.initiated == 'fotr') & (df.score_diff_pre > 0)].dummy.sum()/df.loc[df.score_diff_pre > 0].dummy.sum()\n",
    "perc_rl_li = df.loc[(df.initiated == 'fotl') & (df.score_diff_pre < 0)].dummy.sum()/df.loc[df.score_diff_pre < 0].dummy.sum()\n",
    "perc_rl_ri = df.loc[(df.initiated == 'fotr') & (df.score_diff_pre < 0)].dummy.sum()/df.loc[df.score_diff_pre < 0].dummy.sum()\n",
    "print('of all weapons')\n",
    "print('out of all left leading, ', perc_ll_li, ' of the next points is left initiated, ', perc_ll_ri, ' right initiated')\n",
    "print('out of all right leading, ', perc_rl_li, ' of the next points is left initiated, ', perc_rl_ri, ' right initiated')"
   ]
  },
  {
   "cell_type": "code",
   "execution_count": 10,
   "metadata": {},
   "outputs": [
    {
     "name": "stdout",
     "output_type": "stream",
     "text": [
      "672\n",
      "left initation and score =  168 left initiation and right score =  113\n",
      "right initation and score =  136 right initiation and right score =  152\n"
     ]
    }
   ],
   "source": [
    "# does initiation correspond to scoring\n",
    "\n",
    "df_oneweap = df.loc[df.weapon_x == 'epee']\n",
    "print(len(df_oneweap))\n",
    "li_tl = len(df_oneweap.loc[(df_oneweap.initiated == 'fotl') & (df_oneweap.touch_left == 1)])\n",
    "li_tr = len(df_oneweap.loc[(df_oneweap.initiated == 'fotl') & (df_oneweap.touch_right == 1)])\n",
    "print('left initation and score = ', li_tl, 'left initiation and right score = ', li_tr)\n",
    "\n",
    "ri_tl = len(df_oneweap.loc[(df_oneweap.initiated == 'fotr') & (df_oneweap.touch_left == 1)])\n",
    "ri_tr = len(df_oneweap.loc[(df_oneweap.initiated == 'fotr') & (df_oneweap.touch_right == 1)])\n",
    "print('right initation and score = ', ri_tl, 'right initiation and right score = ', ri_tr)\n"
   ]
  },
  {
   "cell_type": "markdown",
   "metadata": {},
   "source": [
    "## ^\n",
    "Overall (across all weapons), if a fencer is leading, they are less likely to initiate attack. \n",
    "This association is not strong though. \n",
    "\n",
    "The fencer initiating is more likely to score than the other fencer. \n",
    "This effect is the weakest in epee. \n",
    "\n",
    "## v\n",
    "Below we look at percent each type of initation by weapon by leading side."
   ]
  },
  {
   "cell_type": "code",
   "execution_count": 11,
   "metadata": {
    "scrolled": true
   },
   "outputs": [
    {
     "name": "stdout",
     "output_type": "stream",
     "text": [
      "initiated      fotl      fotr   neither\n",
      "weapon_x                               \n",
      "epee       0.389655  0.596552  0.013793\n",
      "foil       0.459753  0.439449  0.100798\n",
      "sabre      0.525180  0.453237  0.021583\n"
     ]
    },
    {
     "data": {
      "image/png": "[encoded data removed]",
      "text/plain": [
       "<Figure size 432x288 with 1 Axes>"
      ]
     },
     "metadata": {
      "needs_background": "light"
     },
     "output_type": "display_data"
    }
   ],
   "source": [
    "prop = ((df_left.groupby(['weapon_x', 'initiated']).dummy.sum()\n",
    "         /df_left.dummy.sum()).unstack('initiated'))\n",
    "prop = prop.div(prop.sum(axis=1),axis=0)\n",
    "print(prop)\n",
    "\n",
    "ax = prop.plot.bar(stacked='True', title='Left fencer is leading',\n",
    "                  rot = 0)\n",
    "ax.legend(['left initiated', 'right initiated', 'neither initiated'])\n",
    "plt.xlabel('weapon')\n",
    "plt.show()"
   ]
  },
  {
   "cell_type": "code",
   "execution_count": 12,
   "metadata": {},
   "outputs": [
    {
     "name": "stdout",
     "output_type": "stream",
     "text": [
      "initiated      fotl      fotr   neither\n",
      "weapon_x                               \n",
      "epee       0.588710  0.387097  0.024194\n",
      "foil       0.457447  0.430091  0.112462\n",
      "sabre      0.395161  0.564516  0.040323\n"
     ]
    },
    {
     "data": {
      "image/png": "[encoded data removed]",
      "text/plain": [
       "<Figure size 432x288 with 1 Axes>"
      ]
     },
     "metadata": {
      "needs_background": "light"
     },
     "output_type": "display_data"
    }
   ],
   "source": [
    "prop = ((df_right.groupby(['weapon_x', 'initiated']).dummy.sum()\n",
    "         /df_right.dummy.sum()).unstack('initiated'))\n",
    "prop = prop.div(prop.sum(axis=1),axis=0)\n",
    "print(prop)\n",
    "\n",
    "ax = prop.plot.bar(stacked='True', title='Right fencer is leading',\n",
    "                  rot = 0)\n",
    "ax.legend(['left initiated', 'right initiated', 'neither initiated'])\n",
    "plt.xlabel('weapon')\n",
    "plt.show()"
   ]
  },
  {
   "cell_type": "markdown",
   "metadata": {},
   "source": [
    "# ^\n",
    "\n",
    "Epee fencers play passive when leading, sabre fencers play aggressive when leading, foil fencers don't care. "
   ]
  },
  {
   "cell_type": "markdown",
   "metadata": {},
   "source": [
    "\n",
    "## v\n",
    "\n",
    "\n",
    "### Does attack location relate to score difference\n",
    "Variables involved: stp_loc_fotl_warning_box, stp_loc_fotl_half, stp_loc_middle, stp_loc_fotr_half, stp_loc_fotr_warning_box, score_diff"
   ]
  },
  {
   "cell_type": "code",
   "execution_count": 95,
   "metadata": {},
   "outputs": [],
   "source": [
    "df = touches_binary.copy()\n",
    "dep_var = 'scorer_lead'"
   ]
  },
  {
   "cell_type": "code",
   "execution_count": 38,
   "metadata": {
    "scrolled": true
   },
   "outputs": [
    {
     "data": {
      "image/png": "[encoded data removed]",
      "text/plain": [
       "<Figure size 288x216 with 1 Axes>"
      ]
     },
     "metadata": {
      "needs_background": "light"
     },
     "output_type": "display_data"
    }
   ],
   "source": [
    "plt.figure(figsize=(4, 3))\n",
    "plt.boxplot([df[dep_var].loc[df['stp_loc_fotl_warning_box']==1],\n",
    "             df[dep_var].loc[df['stp_loc_fotl_half']==1],\n",
    "             df[dep_var].loc[df['stp_loc_middle']==1],\n",
    "             df[dep_var].loc[df['stp_loc_fotr_half']==1],\n",
    "             df[dep_var].loc[df['stp_loc_fotr_warning_box']==1]],\n",
    "           labels=['left_warning', 'left_half', 'middle', 'right_half', 'right_warning'])\n",
    "plt.show()"
   ]
  },
  {
   "cell_type": "code",
   "execution_count": 62,
   "metadata": {},
   "outputs": [
    {
     "name": "stdout",
     "output_type": "stream",
     "text": [
      "intercept 1.3943661971830998\n",
      "coefficients [-0.0576315  -0.33306352 -0.0283662  -0.28692818 -0.41023921]\n",
      "the mse on test set is 13.948299087549806\n"
     ]
    }
   ],
   "source": [
    "X_data = df[['stp_loc_fotl_warning_box', 'stp_loc_fotl_half', 'stp_loc_middle', \n",
    "                         'stp_loc_fotr_half', 'stp_loc_fotr_warning_box']]\n",
    "\n",
    "X_train, X_test, y_train, y_test = train_test_split(X_data, df[dep_var], \n",
    "                                                    shuffle=True, random_state=404, test_size=0.2)\n",
    "reg = LinearRegression(copy_X=True, fit_intercept=True)\n",
    "reg.fit(X_train, y_train)\n",
    "print(\"intercept\", reg.intercept_)\n",
    "print(\"coefficients\", reg.coef_)\n",
    "y_pred=reg.predict(X_test)\n",
    "print(\"the mse on test set is\", np.sum(np.power(y_test-y_pred, 2))/len(y_test))"
   ]
  }
 ],
 "metadata": {
  "kernelspec": {
   "display_name": "Python 3",
   "language": "python",
   "name": "python3"
  },
  "language_info": {
   "codemirror_mode": {
    "name": "ipython",
    "version": 3
   },
   "file_extension": ".py",
   "mimetype": "text/x-python",
   "name": "python",
   "nbconvert_exporter": "python",
   "pygments_lexer": "ipython3",
   "version": "3.7.0"
  }
 },
 "nbformat": 4,
 "nbformat_minor": 2
}
