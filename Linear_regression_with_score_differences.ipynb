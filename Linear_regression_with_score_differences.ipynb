{
 "cells": [
  {
   "cell_type": "markdown",
   "metadata": {},
   "source": [
    "# Is the score difference correlated with any variable\n",
    "Here we introduce new variable score_diff = left_score - right_score.\n",
    "The distribution of the score difference is unimodal centered near 0.\n",
    "\n",
    "### Questions\n",
    "- Is the person with leading score more likely to initiate? \n",
    "    - use general score difference (left - right)\n",
    "    - H_e: if score_diff is large (left lead), more likely to have left initiation\n",
    "\n",
    "### TODO: \n",
    "- **get numerical count(nonbinary) of scoring, plot that against initiation**\n",
    "- test interactions between variables\n",
    "- use stratified by who scored data\n",
    "- debug attack location: coefficient too big wtf \n",
    "\n",
    "### back burner questions: \n"
   ]
  },
  {
   "cell_type": "code",
   "execution_count": 1,
   "metadata": {},
   "outputs": [],
   "source": [
    "# packages\n",
    "import pandas as pd\n",
    "import numpy as np\n",
    "import matplotlib.pyplot as plt\n",
    "import seaborn as sb\n",
    "from sklearn.linear_model import LinearRegression\n",
    "from sklearn.linear_model import LogisticRegression\n",
    "from sklearn.model_selection import train_test_split"
   ]
  },
  {
   "cell_type": "code",
   "execution_count": 2,
   "metadata": {},
   "outputs": [],
   "source": [
    "# load data\n",
    "touches = pd.read_csv('data/saber.csv')\n",
    "# remove unnecessary columns: weapon_y, created_date, tournament_id, gfycat_gfy_id, fotl_name, fotr_name, download_url\n",
    "touches=touches.drop(columns=['weapon_y', 'stats_id', 'created_date', 'tournament_id', 'gfycat_gfy_id', \n",
    "                              'fotl_name', 'fotr_name', 'download_url'])\n",
    "touches_binary = pd.get_dummies(touches, prefix=['init', 'touch', 'stp_loc', 'bod_loc', 'gender'], \n",
    "                         columns=['initiated', 'touch', 'strip_location', 'body_location', 'gender'])\n",
    "\n",
    "# get pre touch score difference \n",
    "touches_binary['left_score_pre'] = touches_binary.left_score - touches_binary.touch_left\n",
    "touches_binary['right_score_pre'] = touches_binary.right_score - touches_binary.touch_right\n",
    "\n",
    "# get numerical initialization count\n",
    "touches_binary['init_num'] = touches_binary.init_fotl + touches_binary.init_fotr*-1\n",
    "\n",
    "# get score difference column 'score_diff' and score difference column from scorer perspective 'scorer_lead'\n",
    "touches_binary['score_diff_pre'] = touches_binary['left_score_pre'] - touches_binary['right_score_pre']\n",
    "touches_binary['score_diff_post'] = touches_binary['left_score'] - touches_binary['right_score']\n",
    "touches_binary['scorer_lead'] = touches_binary['score_diff_pre']\n",
    "touches_binary.loc[touches_binary.touch_right == 1, 'scorer_lead'] = touches_binary.loc[touches_binary.touch_right == 1, 'scorer_lead']*-1"
   ]
  },
  {
   "cell_type": "code",
   "execution_count": 4,
   "metadata": {},
   "outputs": [
    {
     "data": {
      "image/png": "[encoded data removed]",
      "text/plain": [
       "<Figure size 288x216 with 1 Axes>"
      ]
     },
     "metadata": {
      "needs_background": "light"
     },
     "output_type": "display_data"
    }
   ],
   "source": [
    "plt.figure(figsize=(4, 3))\n",
    "sb.violinplot(touches_binary['score_diff_pre'])\n",
    "plt.show()"
   ]
  },
  {
   "cell_type": "code",
   "execution_count": 5,
   "metadata": {
    "scrolled": true
   },
   "outputs": [
    {
     "data": {
      "image/png": "[encoded data removed]",
      "text/plain": [
       "<Figure size 288x216 with 1 Axes>"
      ]
     },
     "metadata": {
      "needs_background": "light"
     },
     "output_type": "display_data"
    }
   ],
   "source": [
    "plt.figure(figsize=(4, 3))\n",
    "sb.violinplot(touches_binary['scorer_lead'])\n",
    "plt.show()"
   ]
  },
  {
   "cell_type": "code",
   "execution_count": 4,
   "metadata": {
    "scrolled": true
   },
   "outputs": [],
   "source": [
    "# further stratify by who scored the touch, this block is currently not in use\n",
    "touches_bin_left_scr = touches_binary.loc[touches_binary['touch_left']==1]\n",
    "touches_bin_right_scr = touches_binary.loc[touches_binary['touch_right']==1]"
   ]
  },
  {
   "cell_type": "markdown",
   "metadata": {},
   "source": [
    "### Does attack initation relate to score difference\n",
    "Variables involved: init_fotl, init_fotr, init_neither, score_diff"
   ]
  },
  {
   "cell_type": "code",
   "execution_count": 6,
   "metadata": {},
   "outputs": [],
   "source": [
    "# specify which variable we are using as dependent variable, e.g. score_diff (left lead) or scorer_lead (scorer lead duh.)\n",
    "df = touches_binary.copy()"
   ]
  },
  {
   "cell_type": "code",
   "execution_count": 9,
   "metadata": {},
   "outputs": [
    {
     "data": {
      "image/png": "[encoded data removed]",
      "text/plain": [
       "<Figure size 288x216 with 1 Axes>"
      ]
     },
     "metadata": {
      "needs_background": "light"
     },
     "output_type": "display_data"
    }
   ],
   "source": [
    "dep_var = 'score_diff_pre'\n",
    "\n",
    "plt.figure(figsize=(4, 3))\n",
    "B = plt.boxplot([df[dep_var].loc[df['init_fotl']==1],\n",
    "             df[dep_var].loc[df['init_neither']==1],\n",
    "             df[dep_var].loc[df['init_fotr']==1]],\n",
    "           labels=['fotl', 'neither', 'fotr'])\n",
    "plt.show()"
   ]
  },
  {
   "cell_type": "code",
   "execution_count": 13,
   "metadata": {},
   "outputs": [
    {
     "name": "stdout",
     "output_type": "stream",
     "text": [
      "mean =  0.6164383561643836 standard dev =  3.339797947240494\n",
      "mean =  -0.3076923076923077 standard dev =  1.635407048113023\n",
      "mean =  -0.03571428571428571 standard dev =  3.3002396326104964\n"
     ]
    }
   ],
   "source": [
    "column_data=df[dep_var].loc[df['init_fotl']==1]\n",
    "mean = np.average(column_data)\n",
    "std = np.std(column_data)\n",
    "print('mean = ', mean, 'standard dev = ', std)\n",
    "\n",
    "column_data=df[dep_var].loc[df['init_neither']==1]\n",
    "mean = np.average(column_data)\n",
    "std = np.std(column_data)\n",
    "print('mean = ', mean, 'standard dev = ', std)\n",
    "\n",
    "column_data=df[dep_var].loc[df['init_fotr']==1]\n",
    "mean = np.average(column_data)\n",
    "std = np.std(column_data)\n",
    "print('mean = ', mean, 'standard dev = ', std)"
   ]
  },
  {
   "cell_type": "code",
   "execution_count": 23,
   "metadata": {},
   "outputs": [
    {
     "name": "stdout",
     "output_type": "stream",
     "text": [
      "Of all touches where left fencer is leading, \n",
      " 0.5251798561151079  of the next point was initiated by left fencer,\n",
      " 0.02158273381294964  of the next point was initiated by neither fencer, \n",
      " 0.45323741007194246  of the next point was initiated by right fencer\n",
      "Of all touches where right fencer is leading, \n",
      " 0.3951612903225806  of the next point was initiated by left fencer,\n",
      " 0.04032258064516129  of the next point was initiated by neither fencer, \n",
      " 0.5645161290322581  of the next point was initiated by right fencer\n"
     ]
    }
   ],
   "source": [
    "# initialization data for all the touches where left fencer is leading\n",
    "data = df[['init_fotl', 'init_neither', 'init_fotr']].loc[df['score_diff_pre'] > 0] \n",
    "init_cts = data.sum()\n",
    "print('Of all touches where left fencer is leading, \\n', \n",
    "      init_cts.init_fotl/init_cts.sum(), ' of the next point was initiated by left fencer,\\n',\n",
    "     init_cts.init_neither/init_cts.sum(), ' of the next point was initiated by neither fencer, \\n',\n",
    "     init_cts.init_fotr/init_cts.sum(), ' of the next point was initiated by right fencer')\n",
    "\n",
    "# initialization data for all the touches where right fencer is leading\n",
    "data = df[['init_fotl', 'init_neither', 'init_fotr']].loc[df['score_diff_pre'] < 0] \n",
    "init_cts = data.sum()\n",
    "print('Of all touches where right fencer is leading, \\n', \n",
    "      init_cts.init_fotl/init_cts.sum(), ' of the next point was initiated by left fencer,\\n',\n",
    "     init_cts.init_neither/init_cts.sum(), ' of the next point was initiated by neither fencer, \\n',\n",
    "     init_cts.init_fotr/init_cts.sum(), ' of the next point was initiated by right fencer')\n"
   ]
  },
  {
   "cell_type": "code",
   "execution_count": 100,
   "metadata": {},
   "outputs": [
    {
     "data": {
      "image/png": "[encoded data removed]",
      "text/plain": [
       "<Figure size 288x216 with 1 Axes>"
      ]
     },
     "metadata": {
      "needs_background": "light"
     },
     "output_type": "display_data"
    }
   ],
   "source": [
    "# specify which variable we are using as dependent variable, e.g. score_diff (left lead) or scorer_lead (scorer lead duh.)\n",
    "df = touches_binary.copy()\n",
    "dep_var = 'score_diff_post'\n",
    "\n",
    "plt.figure(figsize=(4, 3))\n",
    "plt.boxplot([df[dep_var].loc[df['init_fotl']==1],\n",
    "             df[dep_var].loc[df['init_neither']==1],\n",
    "             df[dep_var].loc[df['init_fotr']==1]],\n",
    "           labels=['fotl', 'neither', 'fotr'])\n",
    "plt.show()"
   ]
  },
  {
   "cell_type": "code",
   "execution_count": 97,
   "metadata": {},
   "outputs": [
    {
     "name": "stdout",
     "output_type": "stream",
     "text": [
      "intercept 0.43594009983361204\n",
      "coefficients [-0.20974962 -0.14166217  0.3480599 ]\n",
      "the mse on test set is 13.862439177233044\n"
     ]
    }
   ],
   "source": [
    "X_data = df[['init_fotl', 'init_fotr', 'init_neither']]\n",
    "\n",
    "X_train, X_test, y_train, y_test = train_test_split(X_data, \n",
    "                                                    df[dep_var], shuffle=True, random_state=404, test_size=0.2)\n",
    "reg = LinearRegression(copy_X=True, fit_intercept=True)\n",
    "reg.fit(X_train, y_train)\n",
    "print(\"intercept\", reg.intercept_)\n",
    "print(\"coefficients\", reg.coef_)\n",
    "y_pred=reg.predict(X_test)\n",
    "print(\"the mse on test set is\", np.sum(np.power(y_test-y_pred, 2))/len(y_test))"
   ]
  },
  {
   "cell_type": "markdown",
   "metadata": {},
   "source": [
    "### Does attack location relate to score difference\n",
    "Variables involved: stp_loc_fotl_warning_box, stp_loc_fotl_half, stp_loc_middle, stp_loc_fotr_half, stp_loc_fotr_warning_box, score_diff"
   ]
  },
  {
   "cell_type": "code",
   "execution_count": 95,
   "metadata": {},
   "outputs": [],
   "source": [
    "df = touches_binary.copy()\n",
    "dep_var = 'scorer_lead'"
   ]
  },
  {
   "cell_type": "code",
   "execution_count": 96,
   "metadata": {
    "scrolled": true
   },
   "outputs": [
    {
     "data": {
      "image/png": "[encoded data removed]",
      "text/plain": [
       "<Figure size 288x216 with 1 Axes>"
      ]
     },
     "metadata": {
      "needs_background": "light"
     },
     "output_type": "display_data"
    }
   ],
   "source": [
    "plt.figure(figsize=(4, 3))\n",
    "plt.boxplot([df[dep_var].loc[df['stp_loc_fotl_warning_box']==1],\n",
    "             df[dep_var].loc[df['stp_loc_fotl_half']==1],\n",
    "             df[dep_var].loc[df['stp_loc_middle']==1],\n",
    "             df[dep_var].loc[df['stp_loc_fotr_half']==1],\n",
    "             df[dep_var].loc[df['stp_loc_fotr_warning_box']==1]],\n",
    "           labels=['left_warning', 'left_half', 'middle', 'right_half', 'right_warning'])\n",
    "plt.show()"
   ]
  },
  {
   "cell_type": "code",
   "execution_count": 62,
   "metadata": {},
   "outputs": [
    {
     "name": "stdout",
     "output_type": "stream",
     "text": [
      "intercept 1.3943661971830998\n",
      "coefficients [-0.0576315  -0.33306352 -0.0283662  -0.28692818 -0.41023921]\n",
      "the mse on test set is 13.948299087549806\n"
     ]
    }
   ],
   "source": [
    "X_data = df[['stp_loc_fotl_warning_box', 'stp_loc_fotl_half', 'stp_loc_middle', \n",
    "                         'stp_loc_fotr_half', 'stp_loc_fotr_warning_box']]\n",
    "\n",
    "X_train, X_test, y_train, y_test = train_test_split(X_data, df[dep_var], \n",
    "                                                    shuffle=True, random_state=404, test_size=0.2)\n",
    "reg = LinearRegression(copy_X=True, fit_intercept=True)\n",
    "reg.fit(X_train, y_train)\n",
    "print(\"intercept\", reg.intercept_)\n",
    "print(\"coefficients\", reg.coef_)\n",
    "y_pred=reg.predict(X_test)\n",
    "print(\"the mse on test set is\", np.sum(np.power(y_test-y_pred, 2))/len(y_test))"
   ]
  }
 ],
 "metadata": {
  "kernelspec": {
   "display_name": "Python 3",
   "language": "python",
   "name": "python3"
  },
  "language_info": {
   "codemirror_mode": {
    "name": "ipython",
    "version": 3
   },
   "file_extension": ".py",
   "mimetype": "text/x-python",
   "name": "python",
   "nbconvert_exporter": "python",
   "pygments_lexer": "ipython3",
   "version": "3.7.0"
  }
 },
 "nbformat": 4,
 "nbformat_minor": 2
}
